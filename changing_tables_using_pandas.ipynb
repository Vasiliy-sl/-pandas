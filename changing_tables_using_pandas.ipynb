{
  "nbformat": 4,
  "nbformat_minor": 0,
  "metadata": {
    "colab": {
      "provenance": [],
      "authorship_tag": "ABX9TyPJkALmdjigkN2pO2iEVFQD"
    },
    "kernelspec": {
      "name": "python3",
      "display_name": "Python 3"
    },
    "language_info": {
      "name": "python"
    }
  },
  "cells": [
    {
      "cell_type": "code",
      "execution_count": null,
      "metadata": {
        "colab": {
          "base_uri": "https://localhost:8080/"
        },
        "id": "uqIuRcSfsxv_",
        "outputId": "3eb2250a-bcf3-4142-baff-0fabf4554546"
      },
      "outputs": [
        {
          "output_type": "stream",
          "name": "stdout",
          "text": [
            "  Object Count Cost\n",
            "0      0     5   10\n",
            "1      1     6   11\n",
            "2      2     7   12\n",
            "3      3     8   13\n",
            "4      4     9   14\n"
          ]
        }
      ],
      "source": [
        "#создать таблицу с внесением 5 записей и вывести на экран\n",
        "import pandas as pd\n",
        "import pathlib\n",
        "from pathlib import Path\n",
        "data = {'Object': ['0', '1', '2', '3', '4'], 'Count': ['5', '6', '7', '8', '9'], 'Cost': ['10', '11', '12', '13', '14']}\n",
        "df = pd.DataFrame(data)\n",
        "print(df)"
      ]
    },
    {
      "cell_type": "code",
      "source": [
        "#сделать срез по-второму столбцу\n",
        "import pandas as pd\n",
        "import pathlib\n",
        "from pathlib import Path\n",
        "data = {'Object': ['0', '1', '2', '3', '4'], 'Count': ['5', '6', '7', '8', '9'], 'Cost': ['10', '11', '12', '13', '14']}\n",
        "df = pd.DataFrame(data)\n",
        "table = df.to_string(index=False)\n",
        "column_slice = df.loc[:, ['Count']]\n",
        "print(column_slice)"
      ],
      "metadata": {
        "colab": {
          "base_uri": "https://localhost:8080/"
        },
        "id": "MZ2gArhPCqXW",
        "outputId": "1df2fcad-c298-45e9-8a8b-f5270d768c42"
      },
      "execution_count": null,
      "outputs": [
        {
          "output_type": "stream",
          "name": "stdout",
          "text": [
            "  Count\n",
            "0     5\n",
            "1     6\n",
            "2     7\n",
            "3     8\n",
            "4     9\n"
          ]
        }
      ]
    },
    {
      "cell_type": "code",
      "source": [
        "#удалить пятую строчку из таблицы\n",
        "import pandas as pd\n",
        "import pathlib\n",
        "from pathlib import Path\n",
        "data = {'Object': ['0', '1', '2', '3', '4'], 'Count': ['5', '6', '7', '8', '9'], 'Cost': ['10', '11', '12', '13', '14']}\n",
        "df = pd.DataFrame(data)\n",
        "df.drop(4, inplace=True)\n",
        "print(df)"
      ],
      "metadata": {
        "colab": {
          "base_uri": "https://localhost:8080/"
        },
        "id": "2CQBJSh5GUsp",
        "outputId": "f8a33538-7be5-400b-9b22-1aecf5d7d4f9"
      },
      "execution_count": null,
      "outputs": [
        {
          "output_type": "stream",
          "name": "stdout",
          "text": [
            "  Object Count Cost\n",
            "0      0     5   10\n",
            "1      1     6   11\n",
            "2      2     7   12\n",
            "3      3     8   13\n"
          ]
        }
      ]
    },
    {
      "cell_type": "code",
      "source": [
        "#добавить четвертый столбец\n",
        "import pandas as pd\n",
        "import pathlib\n",
        "from pathlib import Path\n",
        "data = {'Object': ['0', '1', '2', '3', '4'], 'Count': ['5', '6', '7', '8', '9'], 'Cost': ['10', '11', '12', '13', '14']}\n",
        "df = pd.DataFrame(data)\n",
        "df['Total'] = ['0', '0', '0', '0', '0']\n",
        "print(df)"
      ],
      "metadata": {
        "colab": {
          "base_uri": "https://localhost:8080/"
        },
        "id": "4T9GQzaQHREY",
        "outputId": "87fc789d-074b-4ab4-8797-a27fe8ffadca"
      },
      "execution_count": null,
      "outputs": [
        {
          "output_type": "stream",
          "name": "stdout",
          "text": [
            "  Object Count Cost Total\n",
            "0      0     5   10     0\n",
            "1      1     6   11     0\n",
            "2      2     7   12     0\n",
            "3      3     8   13     0\n",
            "4      4     9   14     0\n"
          ]
        }
      ]
    },
    {
      "cell_type": "code",
      "source": [
        "#перемножить ячейки столбцов Count и Cost, запись результата в столбец Total\n",
        "import pandas as pd\n",
        "import pathlib\n",
        "from pathlib import Path\n",
        "data = {'Object': [0, 1, 2, 3, 4], 'Count': [5, 6, 7, 8, 9], 'Cost': [10, 11, 12, 13, 14]}\n",
        "df = pd.DataFrame(data)\n",
        "df['Total'] = [0, 0, 0, 0, 0]\n",
        "df['Total'] = df['Count'] * df['Cost']\n",
        "print(df)"
      ],
      "metadata": {
        "colab": {
          "base_uri": "https://localhost:8080/"
        },
        "id": "He_2WLE2JxY3",
        "outputId": "940854d3-903e-400f-a475-7fe1054e0070"
      },
      "execution_count": null,
      "outputs": [
        {
          "output_type": "stream",
          "name": "stdout",
          "text": [
            "   Object  Count  Cost  Total\n",
            "0       0      5    10     50\n",
            "1       1      6    11     66\n",
            "2       2      7    12     84\n",
            "3       3      8    13    104\n",
            "4       4      9    14    126\n"
          ]
        }
      ]
    }
  ]
}